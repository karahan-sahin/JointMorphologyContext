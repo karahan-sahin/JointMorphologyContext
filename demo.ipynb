{
 "cells": [
  {
   "cell_type": "code",
   "execution_count": 1,
   "metadata": {},
   "outputs": [],
   "source": [
    "checkpoints = \"Joint_Morphology_Context/checkpoints/morph-lm-epoch=1.pth\""
   ]
  },
  {
   "cell_type": "code",
   "execution_count": 2,
   "metadata": {},
   "outputs": [],
   "source": [
    "import torch\n",
    "import torchtext"
   ]
  },
  {
   "cell_type": "code",
   "execution_count": 3,
   "metadata": {},
   "outputs": [
    {
     "name": "stderr",
     "output_type": "stream",
     "text": [
      "/home/karahan/anaconda3/lib/python3.9/site-packages/torch/nn/modules/rnn.py:62: UserWarning: dropout option adds dropout after all but last recurrent layer, so non-zero dropout expects num_layers greater than 1, but got dropout=0.5 and num_layers=1\n",
      "  warnings.warn(\"dropout option adds dropout after all but last \"\n"
     ]
    }
   ],
   "source": [
    "from models.LanguageModel import TransformerLM\n",
    "from models.MorphologicalAnalyzer import SentenceMorphologicalParser\n",
    "from models.CharEncoderDecoder import CharacterLSTMDecoder,CharacterLSTMEncoder,CharacterStateDecoder\n",
    "\n",
    "M = SentenceMorphologicalParser()\n",
    "model = TransformerLM(SentenceMorphologicalParser)"
   ]
  },
  {
   "cell_type": "code",
   "execution_count": 4,
   "metadata": {},
   "outputs": [
    {
     "data": {
      "text/plain": [
       "TransformerLM(\n",
       "  (morph_parser): SentenceMorphologicalParser(\n",
       "    (encoder): CharacterLSTMEncoder(\n",
       "      (embedding): Embedding(168, 256)\n",
       "      (rnn): LSTM(256, 256, dropout=0.5)\n",
       "      (dropout): Dropout(p=0.5, inplace=False)\n",
       "    )\n",
       "    (positional_encoding): PositionalEncoding(\n",
       "      (dropout): Dropout(p=0.1, inplace=False)\n",
       "    )\n",
       "    (transformer_encoder): TransformerEncoder(\n",
       "      (layers): ModuleList(\n",
       "        (0): TransformerEncoderLayer(\n",
       "          (self_attn): MultiheadAttention(\n",
       "            (out_proj): NonDynamicallyQuantizableLinear(in_features=256, out_features=256, bias=True)\n",
       "          )\n",
       "          (linear1): Linear(in_features=256, out_features=1024, bias=True)\n",
       "          (dropout): Dropout(p=0.1, inplace=False)\n",
       "          (linear2): Linear(in_features=1024, out_features=256, bias=True)\n",
       "          (norm1): LayerNorm((256,), eps=1e-05, elementwise_affine=True)\n",
       "          (norm2): LayerNorm((256,), eps=1e-05, elementwise_affine=True)\n",
       "          (dropout1): Dropout(p=0.1, inplace=False)\n",
       "          (dropout2): Dropout(p=0.1, inplace=False)\n",
       "        )\n",
       "        (1): TransformerEncoderLayer(\n",
       "          (self_attn): MultiheadAttention(\n",
       "            (out_proj): NonDynamicallyQuantizableLinear(in_features=256, out_features=256, bias=True)\n",
       "          )\n",
       "          (linear1): Linear(in_features=256, out_features=1024, bias=True)\n",
       "          (dropout): Dropout(p=0.1, inplace=False)\n",
       "          (linear2): Linear(in_features=1024, out_features=256, bias=True)\n",
       "          (norm1): LayerNorm((256,), eps=1e-05, elementwise_affine=True)\n",
       "          (norm2): LayerNorm((256,), eps=1e-05, elementwise_affine=True)\n",
       "          (dropout1): Dropout(p=0.1, inplace=False)\n",
       "          (dropout2): Dropout(p=0.1, inplace=False)\n",
       "        )\n",
       "      )\n",
       "    )\n",
       "    (decoder): CharacterLSTMDecoder(\n",
       "      (one_step_decoder): CharacterStateDecoder(\n",
       "        (embedding): Embedding(256, 256)\n",
       "        (rnn): LSTM(256, 256, dropout=0.5)\n",
       "        (fc): Linear(in_features=256, out_features=249, bias=True)\n",
       "        (dropout): Dropout(p=0.5, inplace=False)\n",
       "      )\n",
       "    )\n",
       "  )\n",
       "  (pos_encoder): PositionalEncoding(\n",
       "    (dropout): Dropout(p=0.5, inplace=False)\n",
       "  )\n",
       "  (transformer_encoder): TransformerEncoder(\n",
       "    (layers): ModuleList(\n",
       "      (0): TransformerEncoderLayer(\n",
       "        (self_attn): MultiheadAttention(\n",
       "          (out_proj): NonDynamicallyQuantizableLinear(in_features=256, out_features=256, bias=True)\n",
       "        )\n",
       "        (linear1): Linear(in_features=256, out_features=512, bias=True)\n",
       "        (dropout): Dropout(p=0.5, inplace=False)\n",
       "        (linear2): Linear(in_features=512, out_features=256, bias=True)\n",
       "        (norm1): LayerNorm((256,), eps=1e-05, elementwise_affine=True)\n",
       "        (norm2): LayerNorm((256,), eps=1e-05, elementwise_affine=True)\n",
       "        (dropout1): Dropout(p=0.5, inplace=False)\n",
       "        (dropout2): Dropout(p=0.5, inplace=False)\n",
       "      )\n",
       "      (1): TransformerEncoderLayer(\n",
       "        (self_attn): MultiheadAttention(\n",
       "          (out_proj): NonDynamicallyQuantizableLinear(in_features=256, out_features=256, bias=True)\n",
       "        )\n",
       "        (linear1): Linear(in_features=256, out_features=512, bias=True)\n",
       "        (dropout): Dropout(p=0.5, inplace=False)\n",
       "        (linear2): Linear(in_features=512, out_features=256, bias=True)\n",
       "        (norm1): LayerNorm((256,), eps=1e-05, elementwise_affine=True)\n",
       "        (norm2): LayerNorm((256,), eps=1e-05, elementwise_affine=True)\n",
       "        (dropout1): Dropout(p=0.5, inplace=False)\n",
       "        (dropout2): Dropout(p=0.5, inplace=False)\n",
       "      )\n",
       "      (2): TransformerEncoderLayer(\n",
       "        (self_attn): MultiheadAttention(\n",
       "          (out_proj): NonDynamicallyQuantizableLinear(in_features=256, out_features=256, bias=True)\n",
       "        )\n",
       "        (linear1): Linear(in_features=256, out_features=512, bias=True)\n",
       "        (dropout): Dropout(p=0.5, inplace=False)\n",
       "        (linear2): Linear(in_features=512, out_features=256, bias=True)\n",
       "        (norm1): LayerNorm((256,), eps=1e-05, elementwise_affine=True)\n",
       "        (norm2): LayerNorm((256,), eps=1e-05, elementwise_affine=True)\n",
       "        (dropout1): Dropout(p=0.5, inplace=False)\n",
       "        (dropout2): Dropout(p=0.5, inplace=False)\n",
       "      )\n",
       "      (3): TransformerEncoderLayer(\n",
       "        (self_attn): MultiheadAttention(\n",
       "          (out_proj): NonDynamicallyQuantizableLinear(in_features=256, out_features=256, bias=True)\n",
       "        )\n",
       "        (linear1): Linear(in_features=256, out_features=512, bias=True)\n",
       "        (dropout): Dropout(p=0.5, inplace=False)\n",
       "        (linear2): Linear(in_features=512, out_features=256, bias=True)\n",
       "        (norm1): LayerNorm((256,), eps=1e-05, elementwise_affine=True)\n",
       "        (norm2): LayerNorm((256,), eps=1e-05, elementwise_affine=True)\n",
       "        (dropout1): Dropout(p=0.5, inplace=False)\n",
       "        (dropout2): Dropout(p=0.5, inplace=False)\n",
       "      )\n",
       "      (4): TransformerEncoderLayer(\n",
       "        (self_attn): MultiheadAttention(\n",
       "          (out_proj): NonDynamicallyQuantizableLinear(in_features=256, out_features=256, bias=True)\n",
       "        )\n",
       "        (linear1): Linear(in_features=256, out_features=512, bias=True)\n",
       "        (dropout): Dropout(p=0.5, inplace=False)\n",
       "        (linear2): Linear(in_features=512, out_features=256, bias=True)\n",
       "        (norm1): LayerNorm((256,), eps=1e-05, elementwise_affine=True)\n",
       "        (norm2): LayerNorm((256,), eps=1e-05, elementwise_affine=True)\n",
       "        (dropout1): Dropout(p=0.5, inplace=False)\n",
       "        (dropout2): Dropout(p=0.5, inplace=False)\n",
       "      )\n",
       "      (5): TransformerEncoderLayer(\n",
       "        (self_attn): MultiheadAttention(\n",
       "          (out_proj): NonDynamicallyQuantizableLinear(in_features=256, out_features=256, bias=True)\n",
       "        )\n",
       "        (linear1): Linear(in_features=256, out_features=512, bias=True)\n",
       "        (dropout): Dropout(p=0.5, inplace=False)\n",
       "        (linear2): Linear(in_features=512, out_features=256, bias=True)\n",
       "        (norm1): LayerNorm((256,), eps=1e-05, elementwise_affine=True)\n",
       "        (norm2): LayerNorm((256,), eps=1e-05, elementwise_affine=True)\n",
       "        (dropout1): Dropout(p=0.5, inplace=False)\n",
       "        (dropout2): Dropout(p=0.5, inplace=False)\n",
       "      )\n",
       "      (6): TransformerEncoderLayer(\n",
       "        (self_attn): MultiheadAttention(\n",
       "          (out_proj): NonDynamicallyQuantizableLinear(in_features=256, out_features=256, bias=True)\n",
       "        )\n",
       "        (linear1): Linear(in_features=256, out_features=512, bias=True)\n",
       "        (dropout): Dropout(p=0.5, inplace=False)\n",
       "        (linear2): Linear(in_features=512, out_features=256, bias=True)\n",
       "        (norm1): LayerNorm((256,), eps=1e-05, elementwise_affine=True)\n",
       "        (norm2): LayerNorm((256,), eps=1e-05, elementwise_affine=True)\n",
       "        (dropout1): Dropout(p=0.5, inplace=False)\n",
       "        (dropout2): Dropout(p=0.5, inplace=False)\n",
       "      )\n",
       "      (7): TransformerEncoderLayer(\n",
       "        (self_attn): MultiheadAttention(\n",
       "          (out_proj): NonDynamicallyQuantizableLinear(in_features=256, out_features=256, bias=True)\n",
       "        )\n",
       "        (linear1): Linear(in_features=256, out_features=512, bias=True)\n",
       "        (dropout): Dropout(p=0.5, inplace=False)\n",
       "        (linear2): Linear(in_features=512, out_features=256, bias=True)\n",
       "        (norm1): LayerNorm((256,), eps=1e-05, elementwise_affine=True)\n",
       "        (norm2): LayerNorm((256,), eps=1e-05, elementwise_affine=True)\n",
       "        (dropout1): Dropout(p=0.5, inplace=False)\n",
       "        (dropout2): Dropout(p=0.5, inplace=False)\n",
       "      )\n",
       "    )\n",
       "  )\n",
       "  (decoder): Linear(in_features=256, out_features=111463, bias=True)\n",
       ")"
      ]
     },
     "execution_count": 4,
     "metadata": {},
     "output_type": "execute_result"
    }
   ],
   "source": [
    "model.load_state_dict(torch.load(checkpoints), strict=False)\n",
    "model.eval()"
   ]
  },
  {
   "cell_type": "code",
   "execution_count": 5,
   "metadata": {},
   "outputs": [],
   "source": [
    "from _utils__.utils_ import Vocab\n",
    "from _utils__.config import device\n",
    "\n",
    "raw_vocab, morph_vocab =  Vocab(\"vocab/raw_vocab\"), Vocab(\"vocab/morph_vocab\")\n",
    "raw_next_vocab, morph_next_vocab =  Vocab(f\"vocab/test/raw_next_vocab\"), Vocab(f\"vocab/test/morph_next_vocab\")"
   ]
  },
  {
   "cell_type": "code",
   "execution_count": 6,
   "metadata": {},
   "outputs": [],
   "source": [
    "from decoder import MorphologyDecoder"
   ]
  },
  {
   "cell_type": "code",
   "execution_count": 7,
   "metadata": {},
   "outputs": [],
   "source": [
    "loaded = torch.load(f'test_data/test_batch_0_db')\n",
    "\n",
    "raw_batch, morph_batch, next  = loaded[\"raw\"],loaded[\"morph\"],loaded[\"next\"]\n",
    "\n",
    "target = [morph_batch[0][:,idx] for idx in range(morph_batch[0].shape[1])]"
   ]
  },
  {
   "cell_type": "code",
   "execution_count": 8,
   "metadata": {},
   "outputs": [
    {
     "data": {
      "text/plain": [
       "['hazineNounA3sgPnonNom',\n",
       " 'MerkezNounPropA3sgPnonAcc',\n",
       " 'rahatlaVerb^DBVerbCausPosPastA3sg',\n",
       " 'geçenAdj',\n",
       " 'haftaNounA3sgPnonNom',\n",
       " 'kısaAdj',\n",
       " 'vadeNounA3sgPnonNom^DBAdjWith',\n",
       " 'avansNounA3sgPnonNom',\n",
       " 'hesapNounA3sgP3sgDat',\n",
       " '48.7NumReal',\n",
       " 'trilyonNumCard',\n",
       " 'liraNounA3sgPnonNom^DBAdjFitFor',\n",
       " 'geriAdj',\n",
       " 'ödemeNounA3sgPnonNom',\n",
       " 'yapVerbPos^DBAdjPresPart',\n",
       " 'hazineNounA3sgPnonNom',\n",
       " 'merkezNounA3sgPnonNom',\n",
       " 'BankaNounPropA3sgP3sgAcc',\n",
       " 'rahatlaVerb^DBVerbCausPosPastA3sg',\n",
       " 'HazineNounPropA3sgPnonGen']"
      ]
     },
     "execution_count": 8,
     "metadata": {},
     "output_type": "execute_result"
    }
   ],
   "source": [
    "[\"\".join([morph_vocab.get_itos()[ch] for ch in target[t] if  ch > 3]) for t in range(len(target))]"
   ]
  },
  {
   "cell_type": "code",
   "execution_count": 9,
   "metadata": {},
   "outputs": [],
   "source": [
    "raw = [raw_batch[0][:,idx] for idx in range(raw_batch[0].shape[1])]"
   ]
  },
  {
   "cell_type": "code",
   "execution_count": 10,
   "metadata": {},
   "outputs": [
    {
     "data": {
      "text/plain": [
       "['NessPresPart^DBsN=Ü:Verb:Verb:VerbAsIf^DBNomPCNom^DBPCNom^DBNom^DBCopOrdNotState',\n",
       " 'NessQuantPresPart^DBsWhileSince=PnonSincePnonVerbEverSince^DBInf3WithoutTGen^DBGen^DBDWhen^DBVerb^DB',\n",
       " '<TtBecomeEverSinceGen^DBp<bos>Gen^DBRelatedNarr^DBP2sgAsIf^DBNomNessNom^DBWhileSincePnonVerb',\n",
       " 'NessWhileSincePnonVerbŞÇÇÇÇStayBlDat-PresPart^DBsCardww',\n",
       " '<sAdj^DBlA2plAsLongAs:Verb:Verb:VerbAsIf^DBNomPCNom^DBPCNom^DBNom^DBCopOrdNotState',\n",
       " 'Since333333PnonNegNumInfAbl^DBGenZsFeelLikeÜÜBecomeZero^DB',\n",
       " 'Since333333PnonNegNumInfAbl^DBGenZsFeelLikeÜÜBecomeZero^DB',\n",
       " 'Since333333PnonNegNumInfAbl^DBGenZsFeelLikeÜÜBecomeZero^DB',\n",
       " 'Rel^DBPresPart^DBBecome^DB=YSince3333PnonNegNumInfAbl^DBGenZsFeelLikeÜ',\n",
       " 'Since33333PnonNegNumInfAbl^DBGenZsFeelLikeÜÜBecomeZero^DBNarr^DB',\n",
       " 'oPresPart^DBsN=Ü:Verb:Verb:VerbAsIf^DBNomPCNom^DBPCNom^DBNom^DBCopOrdNotState',\n",
       " 'ooTPresPart^DBWhen^DBNHHastilyHastilyDesrP2plAsLongAs:Verb:Verb:ZAdjAdj',\n",
       " 'ooNom^DBT333333PnonNegNumInfAbl^DBGenZsFeelLikeÜ',\n",
       " 'oooNom^DBT333333PnonNegNumInfAbl^DBGenZsFeelLike',\n",
       " 'oooNom^DBT333333PnonNegNumInfAbl^DBGenZsFeelLike',\n",
       " 'ooNarrCVerbNarrRecipNarrRecipProg1RZero^DBdAdj^DBlA2plAsLongAs:Verb:',\n",
       " 'oNarrNarrRecipRelated^DBStayPCGenPCGenPos^DBPos^DBPos^DBA3sg^DBActOf::Verb:Verb:Verb',\n",
       " 'CausCausCausCausCausCausCausCaus7DimDat^DBDimsCardCardwwwww',\n",
       " '<ZZZZUZero^DBUNarrRecipRecipProg1DimInf3PresPart^DBsWhileSincePnonVerb',\n",
       " 'CausCausCausCausCaus-RatioNHBecome^DBPCAblIns^DBPCNom^DBPCNom^DBPnonWhen^DBVerb^DBNom^DBSincePnon']"
      ]
     },
     "execution_count": 10,
     "metadata": {},
     "output_type": "execute_result"
    }
   ],
   "source": [
    "MorphologyDecoder(model, raw)"
   ]
  },
  {
   "cell_type": "code",
   "execution_count": null,
   "metadata": {},
   "outputs": [],
   "source": []
  }
 ],
 "metadata": {
  "interpreter": {
   "hash": "4c59de2c553f3c27bd0cd359a9be5bab6f9338479b8802d1a7cf914b94805cd8"
  },
  "kernelspec": {
   "display_name": "Python 3.9.7 ('base')",
   "language": "python",
   "name": "python3"
  },
  "language_info": {
   "codemirror_mode": {
    "name": "ipython",
    "version": 3
   },
   "file_extension": ".py",
   "mimetype": "text/x-python",
   "name": "python",
   "nbconvert_exporter": "python",
   "pygments_lexer": "ipython3",
   "version": "3.9.7"
  },
  "orig_nbformat": 4
 },
 "nbformat": 4,
 "nbformat_minor": 2
}
